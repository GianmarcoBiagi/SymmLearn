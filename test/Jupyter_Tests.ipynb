{
 "cells": [
  {
   "cell_type": "code",
   "execution_count": 17,
   "id": "88e05f34",
   "metadata": {},
   "outputs": [
    {
     "name": "stdout",
     "output_type": "stream",
     "text": [
      "Sono qui\n"
     ]
    },
    {
     "data": {
      "text/plain": [
       "2×1 Matrix{Float32}:\n",
       " 2.6052947\n",
       " 1.4102374"
      ]
     },
     "execution_count": 17,
     "metadata": {},
     "output_type": "execute_result"
    }
   ],
   "source": [
    "include(\"../src/MLTrain.jl\")\n",
    "include(\"../src/Data_prep.jl\")\n",
    "include(\"../src/Utils.jl\")\n",
    "\n",
    "\n",
    "\n",
    "layer=Chain(\n",
    "    DistanceLayer(1,nothing),\n",
    "    MyLayer(1,1,50.0f0,52.0f0)\n",
    ")\n",
    "\n",
    "dist=DistanceLayer(1,nothing)\n",
    "\n",
    "Data=Float32[3.0717585 -0.14971268 3.0603335; 3.210517 -0.16328853 3.0112257;;; 3.03046 -0.04373725 0.010446698; 3.1080205 0.08581428 -0.24876891;;; 2.877253 -0.025660131 -0.40077204; 3.0260594 -0.054103684 -0.2785623]\n",
    "\n",
    "\n",
    "layer(Data)\n"
   ]
  },
  {
   "cell_type": "code",
   "execution_count": null,
   "id": "4551a759",
   "metadata": {},
   "outputs": [],
   "source": []
  }
 ],
 "metadata": {
  "kernelspec": {
   "display_name": "Julia 1.10.2",
   "language": "julia",
   "name": "julia-1.10"
  },
  "language_info": {
   "file_extension": ".jl",
   "mimetype": "application/julia",
   "name": "julia",
   "version": "1.10.2"
  }
 },
 "nbformat": 4,
 "nbformat_minor": 5
}
