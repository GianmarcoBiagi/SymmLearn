{
 "cells": [
  {
   "cell_type": "code",
   "execution_count": null,
   "id": "88e05f34",
   "metadata": {},
   "outputs": [
    {
     "data": {
      "text/plain": [
       "create_toy_species_models (generic function with 1 method)"
      ]
     },
     "metadata": {},
     "output_type": "display_data"
    }
   ],
   "source": [
    "include(\"../src/MLTrain.jl\")\n",
    "include(\"../src/Data_prep.jl\")\n",
    "include(\"../src/Utils.jl\")\n",
    "\n",
    "\n",
    "function build_toy_branch(Atom_name::String,G1_number::Int,R_cutoff::Float32)\n",
    "    ion_charge = 0.1f0 * element_to_charge[Atom_name]\n",
    "    return Chain(\n",
    "        MyLayer(1, G1_number, R_cutoff, ion_charge),\n",
    "        Dense(G1_number, 1)\n",
    "    )\n",
    "end\n",
    "\n",
    "\n",
    "function create_toy_species_models(\n",
    "    unique_species::Vector{String},\n",
    "    G1_number::Int,\n",
    "    R_cutoff::Float32\n",
    ")\n",
    "    models = Dict{String, Chain}()\n",
    "    for sp in unique_species\n",
    "        # build_branch returns a Flux.Chain for that species\n",
    "        models[sp] = build_toy_branch(sp, G1_number, R_cutoff)\n",
    "    end\n",
    "    return models\n",
    "end\n",
    "\n",
    "\n"
   ]
  },
  {
   "cell_type": "code",
   "execution_count": null,
   "id": "011f8167",
   "metadata": {},
   "outputs": [
    {
     "data": {
      "text/plain": [
       "((Float32[3.0717585 -0.14971268 3.0603335; 3.210517 -0.16328853 3.0112257; 3.5257893 -0.04356769 3.2849522;;; 3.03046 -0.04373725 0.010446698; 3.1080205 0.08581428 -0.24876891; 3.029456 0.03864127 0.10844886;;; 2.877253 -0.025660131 -0.40077204; 3.0260594 -0.054103684 -0.2785623; 3.4833195 -0.21320987 -0.19319236], Dict{Symbol, Any}[Dict(:energy => -0.86057436f0, :forces => Float32[1.5904154 1.5511401 -0.28411958; 0.3162832 0.9061826 1.5709159; -0.57991886 0.25863886 -0.32083106]), Dict(:energy => 1.4021714f0, :forces => Float32[0.30106702 0.35098273 0.20707221; -1.131774 -1.9106978 -1.7895982; -0.9700257 0.87433493 0.71551895]), Dict(:energy => -0.541597f0, :forces => Float32[0.39772835 0.40516022 -0.103471845; 0.21879585 0.10554808 0.38255933; -2.5977683 -0.4391377 -0.024999648])]), (Float32[3.210517 -0.16328853 3.0112257;;; 3.1080205 0.08581428 -0.24876891;;; 3.0260594 -0.054103684 -0.2785623], Dict{Symbol, Any}[Dict(:energy => 1.4054941f0, :forces => Float32[0.30106702 0.35098273 0.20707221; -1.131774 -1.9106978 -1.7895982; -0.9700257 0.87433493 0.71551895])]), (Float32[3.0660195 -0.13170424 2.9952385;;; 3.2786026 0.18059807 -0.41822448;;; 3.4251173 -0.08482812 0.67795503], Dict{Symbol, Any}[Dict(:energy => -2.4222345f0, :forces => Float32[-0.0780276 0.17782901 -0.21552294; 1.3141112 -0.6845199 1.5408853; 0.40203512 0.1430395 -0.8717134])]), -28880.535f0, 0.19593866f0, -0.0068933824f0, 0.23999022f0)"
      ]
     },
     "metadata": {},
     "output_type": "display_data"
    }
   ],
   "source": [
    "file_path = \"reduced_train.xyz\"\n",
    "    \n",
    "# Step 1: Extract information from the input file\n",
    "N_atoms, species, unique_species, all_cells, dataset, all_energies = extract_data(file_path)\n",
    "\n",
    "    \n",
    "# Step 2: Create neural network input\n",
    "nn_input_dataset = create_nn_input(dataset, N_atoms)\n",
    "\n",
    "\n",
    "\n",
    "# Step 3: Create neural network target\n",
    " target = create_nn_target(dataset, all_energies)\n",
    "\n",
    "\n",
    "# Step 4: Data preprocessing\n",
    "Train, Val, _, _, _, _ = data_preprocess(nn_input_dataset, target,split=[0.6, 0.2, 0.2])\n",
    "\n",
    "\n",
    "\n"
   ]
  },
  {
   "cell_type": "code",
   "execution_count": null,
   "id": "4551a759",
   "metadata": {},
   "outputs": [
    {
     "name": "stdout",
     "output_type": "stream",
     "text": [
      "x_sample: Float32[3.0717585 3.03046 2.877253; -0.14971268 -0.04373725 -0.025660131; 3.0603335 0.010446698 -0.40077204]\n",
      "x_sample dims: (3, 3)\n",
      "y_sample: Dict{Symbol, Any}(:energy => -0.86057436f0, :forces => Float32[1.5904154 1.5511401 -0.28411958; 0.3162832 0.9061826 1.5709159; -0.57991886 0.25863886 -0.32083106])"
     ]
    }
   ],
   "source": [
    "# Step 5: Create branches\n",
    "species_models = create_toy_species_models(species,1,5.0f0)   \n",
    "\n",
    "\n",
    "# Step 6: Create models\n",
    "model = assemble_model(species_models, species,all_cells[1])\n",
    "\n",
    "\n",
    "x_sample= Train[1][1,:,:]\n",
    "\n",
    "y_sample=Train[2][1]\n",
    "\n",
    "\n",
    "println(\"x_sample: \",x_sample)\n",
    "println(\"x_sample dims: \",size(x_sample))\n",
    "println(\"y_sample: \",y_sample)\n",
    "\n",
    "println(\"model output: \",model(x_sample))\n",
    "\n",
    "\n",
    "println(\"model loss on the sample: \",loss_function(model,x_sample,y_sample))"
   ]
  },
  {
   "cell_type": "code",
   "execution_count": null,
   "id": "eea63055",
   "metadata": {},
   "outputs": [],
   "source": [
    "    # Step 7: Train the model\n",
    "\n",
    "    time_train = @elapsed trained_model,train_loss,val_loss = train_model!(\n",
    "        model,\n",
    "        Train[1],  \n",
    "        Train[2], \n",
    "        Val[1],\n",
    "        Val[2],\n",
    "        loss_function;\n",
    "         initial_lr=0.1,epochs=1, batch_size=4, verbose=false\n",
    "    )"
   ]
  },
  {
   "cell_type": "code",
   "execution_count": null,
   "id": "9ec69c2b",
   "metadata": {},
   "outputs": [
    {
     "name": "stdout",
     "output_type": "stream",
     "text": [
      "Float32[5.669461 4.606348]\n",
      "(Float32[0.5640261 -0.5640261 0.0 0.54643726 -0.54643726 0.0 0.6190969 -0.6190969 0.0; 0.015365967 0.0 -0.015365967 0.80255055 0.0 -0.80255055 0.5963862 0.0 -0.5963862],)\n"
     ]
    }
   ],
   "source": [
    "distances=distance_layer(x_sample[1,:,:],1,nothing)\n",
    "\n",
    "println(distances)\n",
    "\n",
    "jacob = Zygote.jacobian(x->distance_layer(x,1,nothing),x_sample[1,:,:])\n",
    "\n",
    "println(jacob)"
   ]
  },
  {
   "cell_type": "code",
   "execution_count": null,
   "id": "850f2754",
   "metadata": {},
   "outputs": [
    {
     "name": "stdout",
     "output_type": "stream",
     "text": [
      "(Float32[0.5640261 -0.5640261 0.0 0.54643726 -0.54643726 0.0 0.6190969 -0.6190969 0.0; 0.5640261 -0.5640261 0.0 0.54643726 -0.54643726 0.0 0.6190969 -0.6190969 0.0; 0.015365967 0.0 -0.015365967 0.80255055 0.0 -0.80255055 0.5963862 0.0 -0.5963862; 0.015365967 0.0 -0.015365967 0.80255055 0.0 -0.80255055 0.5963862 0.0 -0.5963862; 0.0 -0.9551224 0.9551224 0.0 0.1829099 -0.1829099 0.0 -0.23299156 0.23299156; 0.0 -0.9551224 0.9551224 0.0 0.1829099 -0.1829099 0.0 -0.23299156 0.23299156],)\n"
     ]
    }
   ],
   "source": [
    "First_layer=Parallel(\n",
    "    vcat,\n",
    "    x -> distance_layer(x, 1, nothing),\n",
    "    x -> distance_layer(x, 2, nothing),\n",
    "    x -> distance_layer(x, 3, nothing)\n",
    ")\n",
    "\n",
    "\n",
    "\n",
    "First_layer(x_sample[1,:,:])\n",
    "\n",
    "jacob=Zygote.jacobian(x->First_layer(x),x_sample[1,:,:])\n",
    "\n",
    "println(jacob)\n"
   ]
  },
  {
   "cell_type": "code",
   "execution_count": null,
   "id": "20dfbfe1",
   "metadata": {},
   "outputs": [
    {
     "name": "stdout",
     "output_type": "stream",
     "text": [
      "Parallel(#169, #170, #171)\n",
      "Chain(Parallel(vcat, Chain(#2, Chain(MyLayer(Float32[0.86726224;;], Float32[0.9185761;;], 5.0f0, 5.5f0), Dense(1 => 1))), Chain(#2, Chain(MyLayer(Float32[1.9316505;;], Float32[2.0077033;;], 5.0f0, 8.2f0), Dense(1 => 1))), Chain(#2, Chain(MyLayer(Float32[0.6461651;;], Float32[1.701741;;], 5.0f0, 5.3f0), Dense(1 => 1)))), #3)\n"
     ]
    }
   ],
   "source": [
    "println(First_layer)\n",
    "println(model)"
   ]
  },
  {
   "cell_type": "code",
   "execution_count": null,
   "id": "7bdfb9e6",
   "metadata": {},
   "outputs": [],
   "source": [
    "println(distances)\n",
    "\n",
    "jacob = Zygote.jacobian(x->distance_layer(x,2,nothing),x_sample[1,:,:])\n",
    "\n",
    "println(jacob)"
   ]
  },
  {
   "cell_type": "code",
   "execution_count": null,
   "id": "44137821",
   "metadata": {},
   "outputs": [
    {
     "data": {
      "text/plain": [
       "1-element Vector{Float32}:\n",
       " 0.00035513175"
      ]
     },
     "execution_count": 12,
     "metadata": {},
     "output_type": "execute_result"
    }
   ],
   "source": [
    "layer=MyLayer(1,1,5.95f0,82.0f0)\n",
    "\n",
    "all_forces = [Zygote.gradient(x->layer(x)[1],distances[i,:]) for i in 1:2]"
   ]
  },
  {
   "cell_type": "code",
   "execution_count": null,
   "id": "31195f6d",
   "metadata": {},
   "outputs": [],
   "source": []
  }
 ],
 "metadata": {
  "kernelspec": {
   "display_name": "Julia 1.10.2",
   "language": "julia",
   "name": "julia-1.10"
  },
  "language_info": {
   "file_extension": ".jl",
   "mimetype": "application/julia",
   "name": "julia",
   "version": "1.10.2"
  }
 },
 "nbformat": 4,
 "nbformat_minor": 5
}
